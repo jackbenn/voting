{
 "cells": [
  {
   "cell_type": "markdown",
   "metadata": {},
   "source": [
    "## Proportional approval voting\n",
    "\n"
   ]
  },
  {
   "cell_type": "markdown",
   "metadata": {},
   "source": [
    "Let's start with some simulated votes."
   ]
  },
  {
   "cell_type": "code",
   "execution_count": 107,
   "metadata": {},
   "outputs": [],
   "source": [
    "from scipy import stats\n",
    "import itertools\n",
    "import numpy as np\n",
    "import matplotlib.pyplot as plt\n",
    "%matplotlib inline"
   ]
  },
  {
   "cell_type": "code",
   "execution_count": 244,
   "metadata": {},
   "outputs": [],
   "source": [
    "# a simple model for generating votes,\n",
    "# where candidates and voters are normally distributed\n",
    "# in multi-dimensional space, and voters vote for between\n",
    "# 1 and n_cands-1 closest candidates\n",
    "def create_voters(n_dims, n_voters, dist=None):\n",
    "    if dist is None:\n",
    "        dist = stats.norm(0, 1)\n",
    "    return dist.rvs((n_voters, n_dims))\n",
    "\n",
    "def create_cands(n_dims, n_cands, dist=None):\n",
    "    if dist is None:\n",
    "        dist = stats.norm(0, 1)\n",
    "    return dist.rvs((n_cands, n_dims))\n",
    "\n",
    "def create_votes(voters, cands, n_votes=None):\n",
    "    n_cands = cands.shape[0]\n",
    "    n_voters = voters.shape[0]\n",
    "    if n_votes is None:\n",
    "        n_votes = stats.randint(1, n_cands).rvs(n_voters)\n",
    "    else:\n",
    "        n_votes = np.ones(n_voters)*n_votes\n",
    "    # get ranks of each candidate, according to each voter\n",
    "    ranks = ((voters[:, None, :] - cands)**2).sum(axis=2).argsort(axis=1).argsort(axis=1)\n",
    "    return ranks < n_votes[:, None]"
   ]
  },
  {
   "cell_type": "code",
   "execution_count": null,
   "metadata": {},
   "outputs": [],
   "source": []
  },
  {
   "cell_type": "code",
   "execution_count": 245,
   "metadata": {},
   "outputs": [],
   "source": [
    "voters = create_voters(2, 500)\n",
    "cands = create_cands(2, 12)"
   ]
  },
  {
   "cell_type": "code",
   "execution_count": 246,
   "metadata": {},
   "outputs": [],
   "source": [
    "votes = create_votes(voters, cands, 3)"
   ]
  },
  {
   "cell_type": "code",
   "execution_count": 247,
   "metadata": {},
   "outputs": [],
   "source": [
    "def count_winners(votes, comb):\n",
    "    return votes[:, list(comb)].sum(axis=1)\n",
    "\n",
    "def pav(votes, n_seats):\n",
    "    scores = {}\n",
    "    # get the weights for any-ish number of winners, starting at 0\n",
    "    weights = np.concatenate([[0],\n",
    "                              (1/np.arange(1, 11)).cumsum()])\n",
    "    for comb in itertools.combinations(range(votes.shape[1]),\n",
    "                                       n_seats):\n",
    "        winners = count_winners(votes, comb)\n",
    "        score = weights[winners].sum()\n",
    "        scores[comb] = score\n",
    "    #print(scores)\n",
    "    return max(scores, key=lambda comb: scores[comb])"
   ]
  },
  {
   "cell_type": "markdown",
   "metadata": {},
   "source": [
    "Let's graph stuff!"
   ]
  },
  {
   "cell_type": "code",
   "execution_count": 237,
   "metadata": {},
   "outputs": [
    {
     "data": {
      "image/png": "[encoded data removed]",
      "text/plain": [
       "<Figure size 432x432 with 1 Axes>"
      ]
     },
     "metadata": {
      "needs_background": "light"
     },
     "output_type": "display_data"
    }
   ],
   "source": [
    "fig, ax = plt.subplots(figsize=(6, 6))\n",
    "ax.scatter(voters[:, 0], voters[:, 1], s=5, alpha=0.5)\n",
    "ax.scatter(cands[:, 0], cands[:, 1], s=40)\n",
    "\n",
    "for i in range(cands.shape[0]):\n",
    "    ax.text(cands[i, 0], cands[i, 1], str(i))\n"
   ]
  },
  {
   "cell_type": "code",
   "execution_count": 243,
   "metadata": {},
   "outputs": [
    {
     "data": {
      "text/plain": [
       "(1, 3, 7, 9, 10, 11)"
      ]
     },
     "execution_count": 243,
     "metadata": {},
     "output_type": "execute_result"
    }
   ],
   "source": [
    "pav(votes, 6)"
   ]
  },
  {
   "cell_type": "code",
   "execution_count": null,
   "metadata": {},
   "outputs": [],
   "source": []
  }
 ],
 "metadata": {
  "kernelspec": {
   "display_name": "Python 3",
   "language": "python",
   "name": "python3"
  },
  "language_info": {
   "codemirror_mode": {
    "name": "ipython",
    "version": 3
   },
   "file_extension": ".py",
   "mimetype": "text/x-python",
   "name": "python",
   "nbconvert_exporter": "python",
   "pygments_lexer": "ipython3",
   "version": "3.7.6"
  }
 },
 "nbformat": 4,
 "nbformat_minor": 4
}
