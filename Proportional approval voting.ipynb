{
 "cells": [
  {
   "cell_type": "markdown",
   "metadata": {},
   "source": [
    "## Proportional approval voting\n",
    "\n"
   ]
  },
  {
   "cell_type": "markdown",
   "metadata": {},
   "source": [
    "Let's start with some simulated votes."
   ]
  },
  {
   "cell_type": "code",
   "execution_count": 1,
   "metadata": {},
   "outputs": [],
   "source": [
    "from scipy import stats\n",
    "import itertools\n",
    "import numpy as np\n",
    "import matplotlib.pyplot as plt\n",
    "%matplotlib inline"
   ]
  },
  {
   "cell_type": "code",
   "execution_count": 12,
   "metadata": {},
   "outputs": [],
   "source": [
    "# a simple model for generating votes,\n",
    "# where candidates and voters are normally distributed\n",
    "# in multi-dimensional space, and voters vote for between\n",
    "# 1 and n_cands-1 closest candidates\n",
    "def create_voters(n_dims, n_voters, dist=None):\n",
    "    if dist is None:\n",
    "        dist = stats.norm(0, 1)\n",
    "    return dist.rvs((n_voters, n_dims))\n",
    "\n",
    "def create_cands(n_dims, n_cands, dist=None):\n",
    "    if dist is None:\n",
    "        dist = stats.norm(0, 1)\n",
    "    return dist.rvs((n_cands, n_dims))\n",
    "\n",
    "def create_approval_votes(voters, cands, n_votes=None):\n",
    "    n_cands = cands.shape[0]\n",
    "    n_voters = voters.shape[0]\n",
    "    if n_votes is None:\n",
    "        n_votes = stats.randint(1, n_cands).rvs(n_voters)\n",
    "    else:\n",
    "        n_votes = np.ones(n_voters)*n_votes\n",
    "    # get ranks of each candidate, according to each voter\n",
    "    ranks = ((voters[:, None, :] - cands)**2).sum(axis=2).argsort(axis=1).argsort(axis=1)\n",
    "    return ranks < n_votes[:, None]"
   ]
  },
  {
   "cell_type": "code",
   "execution_count": null,
   "metadata": {},
   "outputs": [],
   "source": []
  },
  {
   "cell_type": "code",
   "execution_count": 13,
   "metadata": {},
   "outputs": [],
   "source": [
    "voters = create_voters(2, 500)\n",
    "cands = create_cands(2, 12)"
   ]
  },
  {
   "cell_type": "code",
   "execution_count": 14,
   "metadata": {},
   "outputs": [],
   "source": [
    "votes = create_approval_votes(voters, cands, 3)"
   ]
  },
  {
   "cell_type": "code",
   "execution_count": 22,
   "metadata": {},
   "outputs": [
    {
     "data": {
      "text/plain": [
       "(500, 12)"
      ]
     },
     "execution_count": 22,
     "metadata": {},
     "output_type": "execute_result"
    }
   ],
   "source": [
    "votes.shape"
   ]
  },
  {
   "cell_type": "code",
   "execution_count": 43,
   "metadata": {},
   "outputs": [],
   "source": [
    "def count_winners(votes, comb):\n",
    "    return votes[:, list(comb)].sum(axis=1)\n",
    "\n",
    "def pav(votes, n_seats, method='dhondt'):\n",
    "    scores = {}\n",
    "    # get the weights for any-ish number of winners, starting at 0\n",
    "    # not sure this is correct, but it's a good guess\n",
    "    if method == 'dhondt' or method == 'jefferson':\n",
    "        divisors = np.arange(1, 21)\n",
    "    elif method == 'webster' or method == 'sainte-lague':\n",
    "        divisors = np.arange(1, 21, 2)\n",
    "    elif method == 'modified sainte-lague':\n",
    "        divisors = np.arange(1, 21, 2)\n",
    "        divisors[0] = 1.4\n",
    "    elif method == 'imperiali':\n",
    "        divisors = np.arange(2, 21)\n",
    "    else:\n",
    "        raise ValueError (\"Invalid method\")\n",
    "    weights = np.concatenate([[0],\n",
    "                              (1/divisors).cumsum()])\n",
    "    for comb in itertools.combinations(range(votes.shape[1]),\n",
    "                                       n_seats):\n",
    "        winners = count_winners(votes, comb)\n",
    "        score = weights[winners].sum()\n",
    "        scores[comb] = score\n",
    "    #print(scores)\n",
    "    return max(scores, key=lambda comb: scores[comb])"
   ]
  },
  {
   "cell_type": "markdown",
   "metadata": {},
   "source": [
    "Let's graph stuff!"
   ]
  },
  {
   "cell_type": "code",
   "execution_count": 44,
   "metadata": {},
   "outputs": [
    {
     "data": {
      "image/png": "[encoded data removed]",
      "text/plain": [
       "<Figure size 432x432 with 1 Axes>"
      ]
     },
     "metadata": {
      "needs_background": "light"
     },
     "output_type": "display_data"
    }
   ],
   "source": [
    "fig, ax = plt.subplots(figsize=(6, 6))\n",
    "ax.scatter(voters[:, 0], voters[:, 1], s=5, alpha=0.5)\n",
    "ax.scatter(cands[:, 0], cands[:, 1], s=40)\n",
    "\n",
    "for i in range(cands.shape[0]):\n",
    "    ax.text(cands[i, 0], cands[i, 1], str(i))\n"
   ]
  },
  {
   "cell_type": "code",
   "execution_count": 18,
   "metadata": {},
   "outputs": [
    {
     "data": {
      "text/plain": [
       "(2, 3, 4, 5, 7, 9)"
      ]
     },
     "execution_count": 18,
     "metadata": {},
     "output_type": "execute_result"
    }
   ],
   "source": [
    "pav(votes, 6)"
   ]
  },
  {
   "cell_type": "markdown",
   "metadata": {},
   "source": [
    "PAV is supposed to match D'Hondt distribution, which disfavors minorities. Let's investigate this and consider alternatives (probably by changing the weights).\n",
    "\n",
    "Suppose we have two parties, A and B, and each candidate and each voter is a member of one or the and each voter approves of people of their party and note the other."
   ]
  },
  {
   "cell_type": "code",
   "execution_count": 30,
   "metadata": {},
   "outputs": [],
   "source": [
    "def create_party_line_approval_votes(n_voters_a,\n",
    "                                     n_voters_b,\n",
    "                                     n_cands_a,\n",
    "                                     n_cands_b):\n",
    "    votes = np.zeros((n_voters_a + n_voters_b,\n",
    "                      n_cands_a + n_cands_b), dtype=bool)\n",
    "    votes[:n_voters_a, :n_cands_a] = True\n",
    "    votes[n_voters_a:, n_cands_a:] = True\n",
    "    return votes"
   ]
  },
  {
   "cell_type": "code",
   "execution_count": 45,
   "metadata": {},
   "outputs": [
    {
     "name": "stdout",
     "output_type": "stream",
     "text": [
      "A: 0   B: 1\n",
      "A: 0   B: 2\n",
      "A: 0   B: 3\n",
      "A: 1   B: 3\n",
      "A: 1   B: 4\n",
      "A: 1   B: 5\n",
      "A: 1   B: 6\n",
      "A: 2   B: 6\n",
      "A: 2   B: 7\n",
      "A: 2   B: 8\n"
     ]
    }
   ],
   "source": [
    "n_cands = 10\n",
    "votes = create_party_line_approval_votes(2, 7, n_cands, n_cands)\n",
    "for n_seats in range(1, n_cands+1):\n",
    "    winners = np.array(pav(votes, n_seats))\n",
    "    print(f'A: {(winners < n_cands).sum()}   B: {(winners >= n_cands).sum()}')"
   ]
  },
  {
   "cell_type": "code",
   "execution_count": 47,
   "metadata": {},
   "outputs": [
    {
     "name": "stdout",
     "output_type": "stream",
     "text": [
      "A: 0   B: 1\n",
      "A: 0   B: 2\n",
      "A: 1   B: 2\n",
      "A: 1   B: 3\n",
      "A: 1   B: 4\n",
      "A: 1   B: 5\n",
      "A: 2   B: 5\n",
      "A: 2   B: 6\n",
      "A: 2   B: 7\n",
      "A: 2   B: 8\n"
     ]
    }
   ],
   "source": [
    "for n_seats in range(1, n_cands+1):\n",
    "    winners = np.array(pav(votes, n_seats, method='webster'))\n",
    "    print(f'A: {(winners < n_cands).sum()}   B: {(winners >= n_cands).sum()}')"
   ]
  },
  {
   "cell_type": "code",
   "execution_count": 48,
   "metadata": {},
   "outputs": [
    {
     "name": "stdout",
     "output_type": "stream",
     "text": [
      "A: 0   B: 1\n",
      "A: 0   B: 2\n",
      "A: 0   B: 3\n",
      "A: 0   B: 4\n",
      "A: 0   B: 5\n",
      "A: 0   B: 6\n",
      "A: 1   B: 6\n",
      "A: 1   B: 7\n",
      "A: 1   B: 8\n",
      "A: 1   B: 9\n"
     ]
    }
   ],
   "source": [
    "for n_seats in range(1, n_cands+1):\n",
    "    winners = np.array(pav(votes, n_seats, method='imperiali'))\n",
    "    print(f'A: {(winners < n_cands).sum()}   B: {(winners >= n_cands).sum()}')"
   ]
  },
  {
   "cell_type": "code",
   "execution_count": null,
   "metadata": {},
   "outputs": [],
   "source": []
  },
  {
   "cell_type": "code",
   "execution_count": null,
   "metadata": {},
   "outputs": [],
   "source": []
  },
  {
   "cell_type": "markdown",
   "metadata": {},
   "source": [
    "The distribution graphically above seems off, that it's giving votes closer to each other than expected. Let's see how it compares to STV."
   ]
  },
  {
   "cell_type": "code",
   "execution_count": 19,
   "metadata": {},
   "outputs": [],
   "source": [
    "def create_ranked_votes(voters, cands):\n",
    "    n_cands = cands.shape[0]\n",
    "    n_voters = voters.shape[0]\n",
    "\n",
    "    # get ranks of each candidate, according to each voter\n",
    "    ranks = ((voters[:, None, :] - cands)**2).sum(axis=2).argsort(axis=1).argsort(axis=1)\n",
    "    return ranks"
   ]
  },
  {
   "cell_type": "code",
   "execution_count": 11,
   "metadata": {},
   "outputs": [
    {
     "data": {
      "text/plain": [
       "array([[ 9,  7,  5, ...,  1,  8,  2],\n",
       "       [ 4,  8,  1, ...,  0, 10,  6],\n",
       "       [ 0,  8,  3, ...,  1, 10,  4],\n",
       "       ...,\n",
       "       [ 9,  4,  0, ...,  2, 10,  6],\n",
       "       [ 3,  9,  8, ...,  6,  5,  1],\n",
       "       [ 0,  8,  5, ...,  1,  9,  2]])"
      ]
     },
     "execution_count": 11,
     "metadata": {},
     "output_type": "execute_result"
    }
   ],
   "source": [
    "create_ranked_votes(voters, cands)"
   ]
  },
  {
   "cell_type": "markdown",
   "metadata": {},
   "source": [
    "(more to come here)"
   ]
  },
  {
   "cell_type": "code",
   "execution_count": null,
   "metadata": {},
   "outputs": [],
   "source": []
  }
 ],
 "metadata": {
  "kernelspec": {
   "display_name": "Python 3",
   "language": "python",
   "name": "python3"
  },
  "language_info": {
   "codemirror_mode": {
    "name": "ipython",
    "version": 3
   },
   "file_extension": ".py",
   "mimetype": "text/x-python",
   "name": "python",
   "nbconvert_exporter": "python",
   "pygments_lexer": "ipython3",
   "version": "3.7.6"
  }
 },
 "nbformat": 4,
 "nbformat_minor": 4
}
